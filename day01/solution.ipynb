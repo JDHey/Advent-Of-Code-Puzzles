{
  "nbformat": 4,
  "nbformat_minor": 0,
  "metadata": {
    "colab": {
      "name": "Untitled3.ipynb",
      "provenance": [],
      "authorship_tag": "ABX9TyPzxxBcTWbO1B7p6O9TnzvX",
      "include_colab_link": true
    },
    "kernelspec": {
      "name": "python3",
      "display_name": "Python 3"
    }
  },
  "cells": [
    {
      "cell_type": "markdown",
      "metadata": {
        "id": "view-in-github",
        "colab_type": "text"
      },
      "source": [
        "<a href=\"https://colab.research.google.com/github/JDHey/Advent-Of-Code-Puzzles/blob/main/day01/solution.ipynb\" target=\"_parent\"><img src=\"https://colab.research.google.com/assets/colab-badge.svg\" alt=\"Open In Colab\"/></a>"
      ]
    },
    {
      "cell_type": "code",
      "metadata": {
        "colab": {
          "base_uri": "https://localhost:8080/"
        },
        "id": "0sUY4TW2wDX_",
        "outputId": "dff4d30c-f3dc-4944-fcfd-cce52628876a"
      },
      "source": [
        "f = open(\"input.txt\", \"r\")\n",
        "i = int(2020/2)\n",
        "while i > 0:\n",
        "  i -= 1\n",
        "  f.seek(0)\n",
        "  for line in f:\n",
        "    line = int(line.strip())\n",
        "    if line == i:\n",
        "      print(i, ':', line)\n",
        "      k = 2020-i\n",
        "      f.seek(0)\n",
        "      for line2 in f:\n",
        "        line2 = int(line2.strip())\n",
        "        if line2 == k:\n",
        "          print('i=',i,';k=',k,';i+k',i+k,';i*k=',i*k)\n",
        "          i = 0\n",
        "f.close()\n"
      ],
      "execution_count": 55,
      "outputs": [
        {
          "output_type": "stream",
          "text": [
            "968 : 968\n",
            "933 : 933\n",
            "780 : 780\n",
            "734 : 734\n",
            "717 : 717\n",
            "457 : 457\n",
            "437 : 437\n",
            "i= 437 ;k= 1583 ;i+k 2020 ;i*k= 691771\n"
          ],
          "name": "stdout"
        }
      ]
    },
    {
      "cell_type": "markdown",
      "metadata": {
        "id": "XygSjNwc9wOX"
      },
      "source": [
        "Now for puzzle 2, three numbers"
      ]
    },
    {
      "cell_type": "code",
      "metadata": {
        "colab": {
          "base_uri": "https://localhost:8080/"
        },
        "id": "5wKxIiKZzSuk",
        "outputId": "7d0e3b7f-51d9-43cf-dccf-33aac46c48c6"
      },
      "source": [
        "f = open(\"input.txt\", \"r\")\n",
        "l = f.readlines()\n",
        "f.seek(0)\n",
        "l2 = f.readlines()\n",
        "f.seek(0)\n",
        "l3 = f.readlines()\n",
        "for num1 in l:\n",
        "  for num2 in l2:\n",
        "    for num3 in l3:\n",
        "      i = int(num1.strip())\n",
        "      j = int(num2.strip())\n",
        "      k = int(num3.strip())\n",
        "      if i + j + k == 2020:\n",
        "         print('i=',i,';j=',j,'k=',k,'i+j+k=',i+j+k,'i*j*k=',i*j*k)\n",
        "f.close()\n"
      ],
      "execution_count": 75,
      "outputs": [
        {
          "output_type": "stream",
          "text": [
            "i= 717 ;j= 335 k= 968 i+j+k= 2020 i*j*k= 232508760\n",
            "i= 717 ;j= 968 k= 335 i+j+k= 2020 i*j*k= 232508760\n",
            "i= 335 ;j= 717 k= 968 i+j+k= 2020 i*j*k= 232508760\n",
            "i= 335 ;j= 968 k= 717 i+j+k= 2020 i*j*k= 232508760\n",
            "i= 968 ;j= 717 k= 335 i+j+k= 2020 i*j*k= 232508760\n",
            "i= 968 ;j= 335 k= 717 i+j+k= 2020 i*j*k= 232508760\n"
          ],
          "name": "stdout"
        }
      ]
    },
    {
      "cell_type": "markdown",
      "metadata": {
        "id": "VkkiA8KYwI6f"
      },
      "source": [
        "# New Section"
      ]
    }
  ]
}